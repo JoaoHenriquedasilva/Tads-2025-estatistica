{
 "cells": [
  {
   "cell_type": "markdown",
   "id": "239f244e",
   "metadata": {},
   "source": []
  },
  {
   "cell_type": "markdown",
   "id": "f7c7a36d",
   "metadata": {},
   "source": [
    "# meu querido notebook"
   ]
  },
  {
   "cell_type": "markdown",
   "id": "dc51801f",
   "metadata": {},
   "source": [
    "Estou fazendo um notobook mas meu professor disse para não usar"
   ]
  },
  {
   "cell_type": "markdown",
   "id": "e3ed27eb",
   "metadata": {},
   "source": [
    "## Meu primeiro codigo em Phyton"
   ]
  },
  {
   "cell_type": "code",
   "execution_count": 5,
   "id": "5bc59ebf",
   "metadata": {},
   "outputs": [
    {
     "name": "stdout",
     "output_type": "stream",
     "text": [
      "hello word\n"
     ]
    }
   ],
   "source": [
    "print('hello word')"
   ]
  }
 ],
 "metadata": {
  "kernelspec": {
   "display_name": "Python 3",
   "language": "python",
   "name": "python3"
  },
  "language_info": {
   "codemirror_mode": {
    "name": "ipython",
    "version": 3
   },
   "file_extension": ".py",
   "mimetype": "text/x-python",
   "name": "python",
   "nbconvert_exporter": "python",
   "pygments_lexer": "ipython3",
   "version": "3.12.1"
  }
 },
 "nbformat": 4,
 "nbformat_minor": 5
}
